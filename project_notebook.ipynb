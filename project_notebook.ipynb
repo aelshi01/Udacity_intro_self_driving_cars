{
 "cells": [
  {
   "cell_type": "markdown",
   "metadata": {
    "collapsed": true
   },
   "source": [
    "# Implementing a Route Planner\n",
    "In this project I used A* search to implement a \"Google-maps\" style route planning algorithm."
   ]
  },
  {
   "cell_type": "markdown",
   "metadata": {},
   "source": [
    "## The Map"
   ]
  },
  {
   "cell_type": "code",
   "execution_count": 2,
   "metadata": {},
   "outputs": [
    {
     "data": {
      "text/html": [
       "        <script type=\"text/javascript\">\n",
       "        window.PlotlyConfig = {MathJaxConfig: 'local'};\n",
       "        if (window.MathJax) {MathJax.Hub.Config({SVG: {font: \"STIX-Web\"}});}\n",
       "        if (typeof require !== 'undefined') {\n",
       "        require.undef(\"plotly\");\n",
       "        requirejs.config({\n",
       "            paths: {\n",
       "                'plotly': ['https://cdn.plot.ly/plotly-latest.min']\n",
       "            }\n",
       "        });\n",
       "        require(['plotly'], function(Plotly) {\n",
       "            window._Plotly = Plotly;\n",
       "        });\n",
       "        }\n",
       "        </script>\n",
       "        "
      ]
     },
     "metadata": {},
     "output_type": "display_data"
    }
   ],
   "source": [
    "from helpers import Map, load_map_10, load_map_40, show_map\n",
    "import math\n",
    "import chart_studio\n",
    "\n",
    "%load_ext autoreload\n",
    "%autoreload 2"
   ]
  },
  {
   "cell_type": "markdown",
   "metadata": {},
   "source": [
    "### Map Basics"
   ]
  },
  {
   "cell_type": "markdown",
   "metadata": {},
   "source": [
    "These `Map` objects have two properties you I want to use to implement A\\* search: `intersections` and `roads`\n",
    "\n",
    "**Intersections**\n",
    "\n",
    "The `intersections` are represented as a dictionary - each identified by an x,y coordinate"
   ]
  },
  {
   "cell_type": "code",
   "execution_count": 4,
   "metadata": {},
   "outputs": [
    {
     "data": {
      "text/plain": [
       "{0: (0.7798606835438107, 0.6922727646627362),\n",
       " 1: (0.7647837074641568, 0.3252670836724646),\n",
       " 2: (0.7155217893995438, 0.20026498027300055),\n",
       " 3: (0.7076566826610747, 0.3278339270610988),\n",
       " 4: (0.8325506249953353, 0.02310946309985762),\n",
       " 5: (0.49016747075266875, 0.5464878695400415),\n",
       " 6: (0.8820353070895344, 0.6791919587749445),\n",
       " 7: (0.46247219371675075, 0.6258061621642713),\n",
       " 8: (0.11622158839385677, 0.11236327488812581),\n",
       " 9: (0.1285377678230034, 0.3285840695698353)}"
      ]
     },
     "execution_count": 4,
     "metadata": {},
     "output_type": "execute_result"
    }
   ],
   "source": [
    "map_10.intersections"
   ]
  },
  {
   "cell_type": "markdown",
   "metadata": {},
   "source": [
    "**Roads**\n",
    "\n",
    "The `roads` property is a list where `roads[i]` contains a list of the intersections that intersection `i` connects to."
   ]
  },
  {
   "cell_type": "code",
   "execution_count": 6,
   "metadata": {},
   "outputs": [
    {
     "data": {
      "text/plain": [
       "[7, 6, 5]"
      ]
     },
     "execution_count": 6,
     "metadata": {},
     "output_type": "execute_result"
    }
   ],
   "source": [
    "# this shows that intersection 0 connects to intersections 7, 6, and 5\n",
    "map_10.roads[0] "
   ]
  },
  {
   "cell_type": "code",
   "execution_count": 7,
   "metadata": {},
   "outputs": [
    {
     "data": {
      "text/plain": [
       "[[7, 6, 5],\n",
       " [4, 3, 2],\n",
       " [1, 4, 3],\n",
       " [1, 2, 5, 4],\n",
       " [1, 2, 3],\n",
       " [0, 3, 7],\n",
       " [0],\n",
       " [0, 5],\n",
       " [9],\n",
       " [8]]"
      ]
     },
     "execution_count": 7,
     "metadata": {},
     "output_type": "execute_result"
    }
   ],
   "source": [
    "# This shows the full connectivity of the map\n",
    "map_10.roads"
   ]
  },
  {
   "cell_type": "markdown",
   "metadata": {},
   "source": [
    "### PathPlanner class\n",
    "\n",
    "`__init__` - I initialize path planner with a map, M, and typically a start and goal node. If either of these are `None`, the rest of the variables here are also set to none. If you don't have both a start and a goal, there's no path to plan! \n",
    "\n",
    "- `closedSet` includes any explored/visited nodes. \n",
    "- `openSet` are any nodes on our frontier for potential future exploration. \n",
    "- `cameFrom` will hold the previous node that best reaches a given node\n",
    "- `gScore` is the `g` in our `f = g + h` equation, or the actual cost to reach our current node\n",
    "- `fScore` is the combination of `g` and `h`, i.e. the `gScore` plus a heuristic; total cost to reach the goal\n",
    "- `path` comes from the `run_search` function, which is already built for you."
   ]
  },
  {
   "cell_type": "code",
   "execution_count": 15,
   "metadata": {},
   "outputs": [],
   "source": [
    "class PathPlanner():\n",
    "    \"\"\"Construct a PathPlanner Object\"\"\"\n",
    "    def __init__(self, M, start=None, goal=None):\n",
    "        \"\"\" \"\"\"\n",
    "        self.map = M\n",
    "        self.start= start\n",
    "        self.goal = goal\n",
    "        self.closedSet = self.create_closedSet() if goal != None and start != None else None\n",
    "        self.openSet = self.create_openSet() if goal != None and start != None else None\n",
    "        self.cameFrom = self.create_cameFrom() if goal != None and start != None else None\n",
    "        self.gScore = self.create_gScore() if goal != None and start != None else None\n",
    "        self.fScore = self.create_fScore() if goal != None and start != None else None\n",
    "        self.path = self.run_search() if self.map and self.start != None and self.goal != None else None\n",
    "    \n",
    "    def reconstruct_path(self, current):\n",
    "        \"\"\" Reconstructs path after search \"\"\"\n",
    "        total_path = [current]\n",
    "        while current in self.cameFrom.keys():\n",
    "            current = self.cameFrom[current]\n",
    "            total_path.append(current)\n",
    "        return total_path\n",
    "    \n",
    "    def _reset(self):\n",
    "        \"\"\"Private method used to reset the closedSet, openSet, cameFrom, gScore, fScore, and path attributes\"\"\"\n",
    "        self.closedSet = None\n",
    "        self.openSet = None\n",
    "        self.cameFrom = None\n",
    "        self.gScore = None\n",
    "        self.fScore = None\n",
    "        self.path = self.run_search() if self.map and self.start and self.goal else None\n",
    "\n",
    "    def run_search(self):\n",
    "        \"\"\" \"\"\"\n",
    "        if self.map == None:\n",
    "            raise(ValueError, \"Must create map before running search. Try running PathPlanner.set_map(start_node)\")\n",
    "        if self.goal == None:\n",
    "            raise(ValueError, \"Must create goal node before running search. Try running PathPlanner.set_goal(start_node)\")\n",
    "        if self.start == None:\n",
    "            raise(ValueError, \"Must create start node before running search. Try running PathPlanner.set_start(start_node)\")\n",
    "\n",
    "        self.closedSet = self.closedSet if self.closedSet != None else self.create_closedSet()\n",
    "        self.openSet = self.openSet if self.openSet != None else  self.create_openSet()\n",
    "        self.cameFrom = self.cameFrom if self.cameFrom != None else  self.create_cameFrom()\n",
    "        self.gScore = self.gScore if self.gScore != None else  self.create_gScore()\n",
    "        self.fScore = self.fScore if self.fScore != None else  self.create_fScore()\n",
    "\n",
    "        while not self.is_open_empty():\n",
    "            current = self.get_current_node()\n",
    "\n",
    "            if current == self.goal:\n",
    "                self.path = [x for x in reversed(self.reconstruct_path(current))]\n",
    "                return self.path\n",
    "            else:\n",
    "                self.openSet.remove(current)\n",
    "                self.closedSet.add(current)\n",
    "\n",
    "            for neighbor in self.get_neighbors(current):\n",
    "                if neighbor in self.closedSet:\n",
    "                    continue    # Ignore the neighbor which is already evaluated.\n",
    "\n",
    "                if not neighbor in self.openSet:    # Discover a new node\n",
    "                    self.openSet.add(neighbor)\n",
    "                \n",
    "                # The distance from start to a neighbor\n",
    "                #the \"dist_between\" function may vary as per the solution requirements.\n",
    "                if self.get_tentative_gScore(current, neighbor) >= self.get_gScore(neighbor):\n",
    "                    continue        # This is not a better path.\n",
    "\n",
    "                # This path is the best until now. Record it!\n",
    "                self.record_best_path_to(current, neighbor)\n",
    "        print(\"No Path Found\")\n",
    "        self.path = None\n",
    "        return False"
   ]
  },
  {
   "cell_type": "markdown",
   "metadata": {},
   "source": [
    "### Data Structures"
   ]
  },
  {
   "cell_type": "code",
   "execution_count": 16,
   "metadata": {},
   "outputs": [],
   "source": [
    "def create_closedSet(self):\n",
    "    \"\"\" Creates and returns a data structure suitable to hold the set of nodes already evaluated\"\"\"\n",
    "    # Returns a set data structure\n",
    "    explored = set()\n",
    "    return explored"
   ]
  },
  {
   "cell_type": "code",
   "execution_count": 17,
   "metadata": {},
   "outputs": [],
   "source": [
    "def create_openSet(self):\n",
    "    \"\"\" Creates and returns a set data structure.\"\"\"\n",
    "    if self.start != None:\n",
    "        frontier = set()\n",
    "        frontier.add(self.start)\n",
    "        \n",
    "        return frontier"
   ]
  },
  {
   "cell_type": "code",
   "execution_count": 18,
   "metadata": {},
   "outputs": [],
   "source": [
    "def create_cameFrom(self):\n",
    "    \"\"\"Creates and returns a dictionary data structure that shows which node can most efficiently be reached from another,\n",
    "    for each node.\"\"\"\n",
    "\n",
    "    a = {}\n",
    "    \n",
    "    return a\n",
    "    \n",
    "    \n",
    "    \n",
    "    "
   ]
  },
  {
   "cell_type": "code",
   "execution_count": 23,
   "metadata": {},
   "outputs": [],
   "source": [
    "def create_gScore(self):\n",
    "    \n",
    "    # Returns a dictionary that holds the cost of getting from the start node to that node, for each node.\n",
    "    # for each node. The cost of going from start to start is zero. The rest of the node's values are\n",
    "    # set to infinity.\n",
    "    \n",
    "    list_score = {}\n",
    "    for i in range(len(self.map.roads)):\n",
    "        list_score[i] = float('inf') \n",
    "    \n",
    "    list_score[self.start] = float(0)\n",
    "    \n",
    "    return list_score\n",
    "    \n",
    "    \n",
    "    "
   ]
  },
  {
   "cell_type": "code",
   "execution_count": 24,
   "metadata": {},
   "outputs": [],
   "source": [
    "def create_fScore(self):\n",
    "    \"\"\"Creates and returns a data structure that holds the total cost of getting from the start node to the goal\n",
    "    by passing by that node, for each node. That value is partly known, partly heuristic.\n",
    "    For the first node, that value is completely heuristic.\"\"\"\n",
    "    # Returns a dictionary that holds the total cost of getting from the start node to the goal\n",
    "    # by passing by that node, for each node. That value is partly known, partly heuristic.\n",
    "    # For the first node, that value is completely heuristic. The rest of the node's value are \n",
    "    # set to infinity.\n",
    "    \n",
    "    list_score = {}\n",
    "    for i in range(len(self.map.roads)):\n",
    "        list_score[i] = float('inf')\n",
    "    \n",
    "    list_score[self.start] = heuristic_cost_estimate(self,self.start)\n",
    "    \n",
    "    return list_score \n",
    "    \n"
   ]
  },
  {
   "cell_type": "markdown",
   "metadata": {},
   "source": [
    "### Set certain variables\n",
    "\n",
    "The below functions help set certain variables if they weren't a part of initializating our `PathPlanner` class, or if they need to be changed for anothe reason."
   ]
  },
  {
   "cell_type": "code",
   "execution_count": 25,
   "metadata": {},
   "outputs": [],
   "source": [
    "def set_map(self, M):\n",
    "    \"\"\"Method used to set map attribute \"\"\"\n",
    "    self._reset()\n",
    "    self.start = None\n",
    "    self.goal = None\n",
    "    # set a map value\n",
    "    self.map = M\n",
    "\n"
   ]
  },
  {
   "cell_type": "code",
   "execution_count": 26,
   "metadata": {},
   "outputs": [],
   "source": [
    "def set_start(self, start):\n",
    "    \"\"\"Method used to set start attribute \"\"\"\n",
    "    # Set start value. Removes the following goal, closedSet, openSet, cameFrom, gScore, fScore, \n",
    "    # and path attributes' values.\n",
    "    self._reset(self)\n",
    "    self.start = start\n",
    "    self.goal = None"
   ]
  },
  {
   "cell_type": "code",
   "execution_count": 27,
   "metadata": {},
   "outputs": [],
   "source": [
    "def set_goal(self, goal):\n",
    "    \"\"\"Method used to set goal attribute \"\"\"\n",
    "    self._reset(self)\n",
    "    # Set goal value. \n",
    "    self.goal = goal"
   ]
  },
  {
   "cell_type": "markdown",
   "metadata": {},
   "source": [
    "### Get node information\n",
    "\n",
    "The below functions gets certain node information. In `is_open_empty`, I am checking whether there are still nodes on the frontier to explore."
   ]
  },
  {
   "cell_type": "code",
   "execution_count": 37,
   "metadata": {},
   "outputs": [],
   "source": [
    "def is_open_empty(self):\n",
    "    \"\"\"returns True if the open set is empty. False otherwise. \"\"\"\n",
    "\n",
    "    return set() == self.openSet\n"
   ]
  },
  {
   "cell_type": "code",
   "execution_count": 38,
   "metadata": {},
   "outputs": [],
   "source": [
    "def get_current_node(self):\n",
    "    \"\"\" Returns the node in the open set with the lowest value of f(node).\"\"\"\n",
    "\n",
    "    temp={}\n",
    "    for node in self.openSet:\n",
    "        temp[node]=self.calculate_fscore(node)\n",
    "    return min(temp, key=temp.get)\n"
   ]
  },
  {
   "cell_type": "code",
   "execution_count": 39,
   "metadata": {},
   "outputs": [],
   "source": [
    "def get_neighbors(self, node):\n",
    "    \"\"\"Returns the neighbors of a node\"\"\"\n",
    "\n",
    "    return self.map.roads[node]\n"
   ]
  },
  {
   "cell_type": "markdown",
   "metadata": {},
   "source": [
    "### Scores and Costs\n",
    "\n",
    "Main part of the calculation for determining the best path - calculating the various parts of the `fScore`."
   ]
  },
  {
   "cell_type": "code",
   "execution_count": 40,
   "metadata": {},
   "outputs": [],
   "source": [
    "def get_gScore(self, node):\n",
    "    \"\"\"Returns the g Score of a node\"\"\"\n",
    "    \n",
    "    return self.gScore[node]\n"
   ]
  },
  {
   "cell_type": "code",
   "execution_count": 41,
   "metadata": {},
   "outputs": [],
   "source": [
    "def distance(self, node_1, node_2):\n",
    "    \"\"\" Computes the Euclidean L2 Distance\"\"\"\n",
    "\n",
    "    x_axis = self.map.intersections[node_2][0] - self.map.intersections[node_1][0]\n",
    "    y_axis = self.map.intersections[node_2][1] - self.map.intersections[node_1][1]\n",
    "    L2 = math.sqrt(x_axis**2 + y_axis**2)\n",
    "    return L2"
   ]
  },
  {
   "cell_type": "code",
   "execution_count": 42,
   "metadata": {},
   "outputs": [],
   "source": [
    "def get_tentative_gScore(self, current, neighbor):\n",
    "    \"\"\"Returns the tentative g Score of a node\"\"\"\n",
    "    \n",
    "    # Return the g Score of the current node plus distance from the current node to it's neighbors\n",
    "    g_score = get_gScore(self,current)\n",
    "    L2 = distance(self,current,neighbor)\n",
    "    \n",
    "    return g_score + L2\n"
   ]
  },
  {
   "cell_type": "code",
   "execution_count": 43,
   "metadata": {},
   "outputs": [],
   "source": [
    "def heuristic_cost_estimate(self, node):\n",
    "    \"\"\" Returns the heuristic cost estimate of a node \"\"\"\n",
    "\n",
    "    hcost = distance(self,self.start,node)\n",
    "    \n",
    "    return hcost\n"
   ]
  },
  {
   "cell_type": "code",
   "execution_count": 44,
   "metadata": {},
   "outputs": [],
   "source": [
    "def calculate_fscore(self, node):\n",
    "    \"\"\"Calculate the f score of a node. \"\"\"\n",
    "    \n",
    "    # F = G + H\n",
    "    f_score = heuristic_cost_estimate(self, node) + get_gScore(self,node)\n",
    "    \n",
    "    return f_score\n",
    "    "
   ]
  },
  {
   "cell_type": "markdown",
   "metadata": {},
   "source": [
    "### Recording the best path\n",
    "\n",
    "Now that you've implemented the various functions on scoring, you can record the best path to a given neighbor node from the current node!"
   ]
  },
  {
   "cell_type": "code",
   "execution_count": 45,
   "metadata": {},
   "outputs": [],
   "source": [
    "def record_best_path_to(self, current, neighbor):\n",
    "    \"\"\"Record the best path to a node \"\"\"\n",
    "    \n",
    "    # Records the best path to a node, by updating cameFrom, gScore, and fScore\n",
    "    self.cameFrom[neighbor] = current\n",
    "    self.gScore[neighbor] = self.get_tentative_gScore(current, neighbor)\n",
    "    self.fScore[neighbor] = calculate_fscore(self,neighbor)\n",
    "    \n",
    "    \n"
   ]
  },
  {
   "cell_type": "markdown",
   "metadata": {},
   "source": [
    "### Testing phase"
   ]
  },
  {
   "cell_type": "code",
   "execution_count": 46,
   "metadata": {},
   "outputs": [],
   "source": [
    "# Associates implemented functions with PathPlanner class\n",
    "PathPlanner.create_closedSet = create_closedSet\n",
    "PathPlanner.create_openSet = create_openSet\n",
    "PathPlanner.create_cameFrom = create_cameFrom\n",
    "PathPlanner.create_gScore = create_gScore\n",
    "PathPlanner.create_fScore = create_fScore\n",
    "PathPlanner.set_map = set_map\n",
    "PathPlanner.set_start = set_start\n",
    "PathPlanner.set_goal = set_goal\n",
    "PathPlanner.is_open_empty = is_open_empty\n",
    "PathPlanner.get_current_node = get_current_node\n",
    "PathPlanner.get_neighbors = get_neighbors\n",
    "PathPlanner.get_gScore = get_gScore\n",
    "PathPlanner.distance = distance\n",
    "PathPlanner.get_tentative_gScore = get_tentative_gScore\n",
    "PathPlanner.heuristic_cost_estimate = heuristic_cost_estimate\n",
    "PathPlanner.calculate_fscore = calculate_fscore\n",
    "PathPlanner.record_best_path_to = record_best_path_to"
   ]
  },
  {
   "cell_type": "markdown",
   "metadata": {},
   "source": [
    "### Preliminary Test\n",
    "\n",
    "The below is the first test case, just based off of one set of inputs."
   ]
  },
  {
   "cell_type": "code",
   "execution_count": 53,
   "metadata": {},
   "outputs": [
    {
     "name": "stdout",
     "output_type": "stream",
     "text": [
      "code works for these inputs!\n"
     ]
    }
   ],
   "source": [
    "planner = PathPlanner(map_40, 5, 34)\n",
    "path = planner.path\n",
    "if path == [5, 16, 37, 12, 34]:\n",
    "    print(\"code works for these inputs!\")\n",
    "else:\n",
    "    print(\"something is off, code produced the following:\")\n",
    "    print(path)"
   ]
  },
  {
   "cell_type": "markdown",
   "metadata": {},
   "source": [
    "### Testing your Code"
   ]
  },
  {
   "cell_type": "code",
   "execution_count": 51,
   "metadata": {},
   "outputs": [
    {
     "data": {
      "text/html": [
       "        <script type=\"text/javascript\">\n",
       "        window.PlotlyConfig = {MathJaxConfig: 'local'};\n",
       "        if (window.MathJax) {MathJax.Hub.Config({SVG: {font: \"STIX-Web\"}});}\n",
       "        if (typeof require !== 'undefined') {\n",
       "        require.undef(\"plotly\");\n",
       "        requirejs.config({\n",
       "            paths: {\n",
       "                'plotly': ['https://cdn.plot.ly/plotly-latest.min']\n",
       "            }\n",
       "        });\n",
       "        require(['plotly'], function(Plotly) {\n",
       "            window._Plotly = Plotly;\n",
       "        });\n",
       "        }\n",
       "        </script>\n",
       "        "
      ]
     },
     "metadata": {},
     "output_type": "display_data"
    },
    {
     "name": "stdout",
     "output_type": "stream",
     "text": [
      "All tests pass!\n"
     ]
    }
   ],
   "source": [
    "from test import test\n",
    "\n",
    "test(PathPlanner)"
   ]
  },
  {
   "cell_type": "markdown",
   "metadata": {},
   "source": [
    "---"
   ]
  }
 ],
 "metadata": {
  "kernelspec": {
   "display_name": "Python 3",
   "language": "python",
   "name": "python3"
  },
  "language_info": {
   "codemirror_mode": {
    "name": "ipython",
    "version": 3
   },
   "file_extension": ".py",
   "mimetype": "text/x-python",
   "name": "python",
   "nbconvert_exporter": "python",
   "pygments_lexer": "ipython3",
   "version": "3.7.7"
  }
 },
 "nbformat": 4,
 "nbformat_minor": 2
}
